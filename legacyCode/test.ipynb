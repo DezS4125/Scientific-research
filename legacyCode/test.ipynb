{
 "cells": [
  {
   "cell_type": "code",
   "execution_count": null,
   "metadata": {},
   "outputs": [],
   "source": [
    "from zoo.orca import init_orca_context\n",
    "from zoo.orca.learn.tf.estimator import Estimator\n",
    "from tensorflow import keras\n",
    "\n",
    "# Initialize Orca Context\n",
    "sc = init_orca_context(cluster_mode=\"local\", cores=4, memory=\"10g\")\n",
    "\n",
    "# Define the model using Keras\n",
    "user = keras.layers.Input(shape=[1])\n",
    "item = keras.layers.Input(shape=[1])\n",
    "feat = keras.layers.concatenate([user, item], axis=1)\n",
    "predictions = keras.layers.Dense(2, activation='softmax')(feat)\n",
    "model = keras.models.Model(inputs=[user, item], outputs=predictions)\n",
    "model.compile(optimizer='rmsprop', loss='sparse_categorical_crossentropy', metrics=['accuracy'])\n",
    "\n",
    "# Create an Estimator and train the model\n",
    "est = Estimator.from_keras(keras_model=model)\n",
    "est.fit(data=df, batch_size=64, epochs=4, feature_cols=['user', 'item'], label_cols=['label'])\n"
   ]
  }
 ],
 "metadata": {
  "language_info": {
   "name": "python"
  },
  "orig_nbformat": 4
 },
 "nbformat": 4,
 "nbformat_minor": 2
}
