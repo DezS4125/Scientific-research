{
 "cells": [
  {
   "cell_type": "code",
   "execution_count": 1,
   "metadata": {},
   "outputs": [
    {
     "ename": "SyntaxError",
     "evalue": "positional argument follows keyword argument (2206007769.py, line 25)",
     "output_type": "error",
     "traceback": [
      "\u001b[0;36m  Cell \u001b[0;32mIn[1], line 25\u001b[0;36m\u001b[0m\n\u001b[0;31m    ...)\u001b[0m\n\u001b[0m       ^\u001b[0m\n\u001b[0;31mSyntaxError\u001b[0m\u001b[0;31m:\u001b[0m positional argument follows keyword argument\n"
     ]
    }
   ],
   "source": [
    "# 1. Initilize Orca Context (to run your program on K8s, YARN or local laptop)\n",
    "from bigdl.orca import init_orca_context, OrcaContext\n",
    "sc = init_orca_context(cluster_mode=\"k8s\", cores=4, memory=\"10g\", num_nodes=2) \n",
    "\n",
    "# 2. Perform distribtued data processing (supporting Spark DataFrames,\n",
    "# TensorFlow Dataset, PyTorch DataLoader, Ray Dataset, Pandas, Pillow, etc.)\n",
    "spark = OrcaContext.get_spark_session()\n",
    "df = spark.read.parquet(file_path)\n",
    "df = df.withColumn('label', df.label-1)\n",
    "...\n",
    "\n",
    "# 3. Build deep learning models using standard framework APIs\n",
    "# (supporting TensorFlow, PyTorch, Keras, OpenVino, etc.)\n",
    "from tensorflow import keras\n",
    "...\n",
    "model = keras.models.Model(inputs=[user, item], outputs=predictions)  \n",
    "model.compile(...)\n",
    "\n",
    "# 4. Use Orca Estimator for distributed training/inference\n",
    "from bigdl.orca.learn.tf.estimator import Estimator\n",
    "est = Estimator.from_keras(keras_model=model)  \n",
    "est.fit(data=df,\n",
    "        feature_cols=['user', 'item'],\n",
    "        label_cols=['label'],\n",
    "        ...)"
   ]
  }
 ],
 "metadata": {
  "kernelspec": {
   "display_name": "my_env",
   "language": "python",
   "name": "python3"
  },
  "language_info": {
   "codemirror_mode": {
    "name": "ipython",
    "version": 3
   },
   "file_extension": ".py",
   "mimetype": "text/x-python",
   "name": "python",
   "nbconvert_exporter": "python",
   "pygments_lexer": "ipython3",
   "version": "3.11.3"
  },
  "orig_nbformat": 4
 },
 "nbformat": 4,
 "nbformat_minor": 2
}
