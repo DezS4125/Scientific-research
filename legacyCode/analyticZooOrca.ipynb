{
 "cells": [
  {
   "cell_type": "code",
   "execution_count": null,
   "metadata": {},
   "outputs": [],
   "source": [
    "from zoo.orca import OrcaContext\n",
    "\n",
    "spark = OrcaContext.get_spark_session()\n",
    "# read csv with specifying column names\n",
    "df = spark.read.csv(new_rating_files, sep=':', inferSchema=True).toDF(\n",
    "  \"user\", \"item\", \"label\", \"timestamp\")"
   ]
  },
  {
   "cell_type": "code",
   "execution_count": null,
   "metadata": {},
   "outputs": [],
   "source": [
    "from pyspark.sql.functions import array\n",
    "from pyspark.sql import SparkSession\n",
    "\n",
    "\n",
    "spark = SparkSession \\\n",
    "    .builder \\\n",
    "    .appName(\"Facial Analytic\") \\\n",
    "    .getOrCreate()\n",
    "\n",
    "df = spark.read.parquet(file_path)\n",
    "df = df.withColumn('user', array('user')) \\  \n",
    "       .withColumn('item', array('item'))"
   ]
  },
  {
   "cell_type": "code",
   "execution_count": null,
   "metadata": {},
   "outputs": [],
   "source": [
    "from tensorflow import keras\n",
    "from zoo.orca.learn.tf.estimator import Estimator\n",
    "\n",
    "user = keras.layers.Input(shape=[1])  \n",
    "item = keras.layers.Input(shape=[1])  \n",
    "feat = keras.layers.concatenate([user, item], axis=1)  \n",
    "predictions = keras.layers.Dense(2, activation='softmax')(feat)  \n",
    "model = keras.models.Model(inputs=[user, item], outputs=predictions)  \n",
    "model.compile(optimizer='rmsprop',  \n",
    "              loss='sparse_categorical_crossentropy',  \n",
    "              metrics=['accuracy'])\n",
    "\n",
    "est = Estimator.from_keras(keras_model=model)  \n",
    "est.fit(data=df,  \n",
    "        batch_size=64,  \n",
    "        epochs=4,  \n",
    "        feature_cols=['user', 'item'],  \n",
    "        label_cols=['label'])"
   ]
  }
 ],
 "metadata": {
  "kernelspec": {
   "display_name": "my_env",
   "language": "python",
   "name": "python3"
  },
  "language_info": {
   "codemirror_mode": {
    "name": "ipython",
    "version": 3
   },
   "file_extension": ".py",
   "mimetype": "text/x-python",
   "name": "python",
   "nbconvert_exporter": "python",
   "pygments_lexer": "ipython3",
   "version": "3.11.3"
  },
  "orig_nbformat": 4
 },
 "nbformat": 4,
 "nbformat_minor": 2
}
